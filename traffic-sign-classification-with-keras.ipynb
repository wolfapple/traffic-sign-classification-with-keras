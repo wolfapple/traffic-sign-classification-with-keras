{
 "cells": [
  {
   "cell_type": "markdown",
   "metadata": {},
   "source": [
    "# Traffic Sign Classification with Keras\n",
    "\n",
    "Keras exists to make coding deep neural networks simpler. To demonstrate just how easy it is, you’re going to use Keras to build a convolutional neural network in a few dozen lines of code.\n",
    "\n",
    "You’ll be connecting the concepts from the previous lessons to the methods that Keras provides."
   ]
  },
  {
   "cell_type": "markdown",
   "metadata": {},
   "source": [
    "## Dataset\n",
    "\n",
    "The network you'll build with Keras is similar to the example that you can find in Keras’s GitHub repository that builds out a [convolutional neural network for MNIST](https://github.com/fchollet/keras/blob/master/examples/mnist_cnn.py). \n",
    "\n",
    "However, instead of using the [MNIST](http://yann.lecun.com/exdb/mnist/) dataset, you're going to use the [German Traffic Sign Recognition Benchmark](http://benchmark.ini.rub.de/?section=gtsrb&subsection=news) dataset that you've used previously.\n",
    "\n",
    "You can download pickle files with sanitized traffic sign data here."
   ]
  },
  {
   "cell_type": "markdown",
   "metadata": {},
   "source": [
    "## Overview\n",
    "\n",
    "Here are the steps you'll take to build the network:\n",
    "\n",
    "1. First load the training data and do a train/validation split.\n",
    "2. Preprocess data.\n",
    "3. Build a feedforward neural network to classify traffic signs.\n",
    "4. Build a convolutional neural network to classify traffic signs.\n",
    "5. Evaluate performance of final neural network on testing data.\n",
    "\n",
    "Keep an eye on the network’s accuracy over time. Once the accuracy reaches the 98% range, you can be confident that you’ve built and trained an effective model."
   ]
  },
  {
   "cell_type": "code",
   "execution_count": 1,
   "metadata": {
    "collapsed": false
   },
   "outputs": [],
   "source": [
    "import pickle\n",
    "import numpy as np\n",
    "from sklearn.model_selection import train_test_split\n",
    "import math"
   ]
  },
  {
   "cell_type": "markdown",
   "metadata": {},
   "source": [
    "## Load the Data\n",
    "\n",
    "Start by importing the data from the pickle file."
   ]
  },
  {
   "cell_type": "code",
   "execution_count": 2,
   "metadata": {
    "collapsed": false
   },
   "outputs": [],
   "source": [
    "# TODO: Implement load the data here.\n",
    "with open('train.p', 'rb') as f:\n",
    "    data = pickle.load(f)"
   ]
  },
  {
   "cell_type": "markdown",
   "metadata": {},
   "source": [
    "## Validate the Network\n",
    "Split the training data into a training and validation set.\n",
    "\n",
    "Measure the [validation accuracy](https://keras.io/models/sequential/) of the network after two training epochs.\n",
    "\n",
    "Hint: [Use the `train_test_split()` method](http://scikit-learn.org/stable/modules/generated/sklearn.model_selection.train_test_split.html) from scikit-learn."
   ]
  },
  {
   "cell_type": "code",
   "execution_count": 3,
   "metadata": {
    "collapsed": true
   },
   "outputs": [],
   "source": [
    "# TODO: Use `train_test_split` here.\n",
    "X_train, X_val, y_train, y_val = train_test_split(data['features'], data['labels'], test_size=0.33, random_state=42)"
   ]
  },
  {
   "cell_type": "code",
   "execution_count": 4,
   "metadata": {
    "collapsed": true
   },
   "outputs": [],
   "source": [
    "# STOP: Do not change the tests below. Your implementation should pass these tests. \n",
    "assert(X_train.shape[0] == y_train.shape[0]), \"The number of images is not equal to the number of labels.\"\n",
    "assert(X_train.shape[1:] == (32,32,3)), \"The dimensions of the images are not 32 x 32 x 3.\"\n",
    "assert(X_val.shape[0] == y_val.shape[0]), \"The number of images is not equal to the number of labels.\"\n",
    "assert(X_val.shape[1:] == (32,32,3)), \"The dimensions of the images are not 32 x 32 x 3.\""
   ]
  },
  {
   "cell_type": "markdown",
   "metadata": {},
   "source": [
    "## Preprocess the Data\n",
    "\n",
    "Now that you've loaded the training data, preprocess the data such that it's in the range between -0.5 and 0.5."
   ]
  },
  {
   "cell_type": "code",
   "execution_count": 5,
   "metadata": {
    "collapsed": false
   },
   "outputs": [],
   "source": [
    "# TODO: Implement data normalization here.\n",
    "X_train = X_train.astype('float32')\n",
    "X_val = X_val.astype('float32')\n",
    "X_train = X_train / 255 - 0.5\n",
    "X_val = X_val / 255 - 0.5"
   ]
  },
  {
   "cell_type": "code",
   "execution_count": 6,
   "metadata": {
    "collapsed": true
   },
   "outputs": [],
   "source": [
    "# STOP: Do not change the tests below. Your implementation should pass these tests. \n",
    "assert(math.isclose(np.min(X_train), -0.5, abs_tol=1e-5) and math.isclose(np.max(X_train), 0.5, abs_tol=1e-5)), \"The range of the training data is: %.1f to %.1f\" % (np.min(X_train), np.max(X_train))\n",
    "assert(math.isclose(np.min(X_val), -0.5, abs_tol=1e-5) and math.isclose(np.max(X_val), 0.5, abs_tol=1e-5)), \"The range of the validation data is: %.1f to %.1f\" % (np.min(X_val), np.max(X_val))"
   ]
  },
  {
   "cell_type": "markdown",
   "metadata": {},
   "source": [
    "## Build a Two-Layer Feedfoward Network\n",
    "\n",
    "The code you've written so far is for data processing, not specific to Keras. Here you're going to build Keras-specific code.\n",
    "\n",
    "Build a two-layer feedforward neural network, with 128 neurons in the fully-connected hidden layer. \n",
    "\n",
    "To get started, review the Keras documentation about [models](https://keras.io/models/sequential/) and [layers](https://keras.io/layers/core/).\n",
    "\n",
    "The Keras example of a [Multi-Layer Perceptron](https://github.com/fchollet/keras/blob/master/examples/mnist_mlp.py) network is similar to what you need to do here. Use that as a guide, but keep in mind that there are a number of differences."
   ]
  },
  {
   "cell_type": "code",
   "execution_count": 7,
   "metadata": {
    "collapsed": false
   },
   "outputs": [
    {
     "name": "stderr",
     "output_type": "stream",
     "text": [
      "Using TensorFlow backend.\n"
     ]
    }
   ],
   "source": [
    "# TODO: Build a two-layer feedforward neural network with Keras here.\n",
    "from keras.models import Sequential\n",
    "from keras.layers import Dense, Input, Activation\n",
    "\n",
    "model = Sequential()\n",
    "model.add(Dense(128, activation='relu', input_shape=(32*32*3,)))\n",
    "model.add(Dense(43, activation='softmax'))"
   ]
  },
  {
   "cell_type": "code",
   "execution_count": 8,
   "metadata": {
    "collapsed": true
   },
   "outputs": [],
   "source": [
    "# STOP: Do not change the tests below. Your implementation should pass these tests.\n",
    "dense_layers = []\n",
    "for l in model.layers:\n",
    "    if type(l) == Dense:\n",
    "        dense_layers.append(l)\n",
    "assert(len(dense_layers) == 2), \"There should be 2 Dense layers.\"\n",
    "d1 = dense_layers[0]\n",
    "d2 = dense_layers[1]\n",
    "assert(d1.input_shape == (None, 3072))\n",
    "assert(d1.output_shape == (None, 128))\n",
    "assert(d2.input_shape == (None, 128))\n",
    "assert(d2.output_shape == (None, 43))\n",
    "\n",
    "last_layer = model.layers[-1]\n",
    "assert(last_layer.activation.__name__ == 'softmax'), \"Last layer should be softmax activation, is {}.\".format(last_layer.activation.__name__)"
   ]
  },
  {
   "cell_type": "code",
   "execution_count": 9,
   "metadata": {
    "collapsed": false
   },
   "outputs": [
    {
     "name": "stdout",
     "output_type": "stream",
     "text": [
      "dense_1 (None, 3072) (None, 128) <function relu at 0x126a4b620>\n",
      "dense_2 (None, 128) (None, 43) <function softmax at 0x126a4b400>\n"
     ]
    }
   ],
   "source": [
    "# Debugging\n",
    "for l in model.layers:\n",
    "    print(l.name, l.input_shape, l.output_shape, l.activation)"
   ]
  },
  {
   "cell_type": "markdown",
   "metadata": {},
   "source": [
    "## Train the Network\n",
    "Compile and train the network for 2 epochs. [Use the `adam` optimizer, with `categorical_crossentropy` loss.](https://keras.io/models/sequential/)\n",
    "\n",
    "Hint 1: In order to use categorical cross entropy, you will need to [one-hot encode the labels](https://github.com/fchollet/keras/blob/master/keras/utils/np_utils.py).\n",
    "\n",
    "Hint 2: In order to pass the input images to the fully-connected hidden layer, you will need to [reshape the input](https://github.com/fchollet/keras/blob/master/examples/mnist_mlp.py).\n",
    "\n",
    "Hint 3: Keras's `.fit()` method returns a `History.history` object, which the tests below use. Save that to a variable named `history`."
   ]
  },
  {
   "cell_type": "code",
   "execution_count": 10,
   "metadata": {
    "collapsed": false
   },
   "outputs": [
    {
     "name": "stdout",
     "output_type": "stream",
     "text": [
      "____________________________________________________________________________________________________\n",
      "Layer (type)                     Output Shape          Param #     Connected to                     \n",
      "====================================================================================================\n",
      "dense_1 (Dense)                  (None, 128)           393344      dense_input_1[0][0]              \n",
      "____________________________________________________________________________________________________\n",
      "dense_2 (Dense)                  (None, 43)            5547        dense_1[0][0]                    \n",
      "====================================================================================================\n",
      "Total params: 398891\n",
      "____________________________________________________________________________________________________\n",
      "Train on 26270 samples, validate on 12939 samples\n",
      "Epoch 1/20\n",
      "26270/26270 [==============================] - 2s - loss: 1.9593 - acc: 0.4952 - val_loss: 1.2671 - val_acc: 0.6609\n",
      "Epoch 2/20\n",
      "26270/26270 [==============================] - 1s - loss: 0.9404 - acc: 0.7584 - val_loss: 0.8092 - val_acc: 0.7790\n",
      "Epoch 3/20\n",
      "26270/26270 [==============================] - 1s - loss: 0.6826 - acc: 0.8230 - val_loss: 0.6676 - val_acc: 0.8004\n",
      "Epoch 4/20\n",
      "26270/26270 [==============================] - 1s - loss: 0.5315 - acc: 0.8635 - val_loss: 0.4943 - val_acc: 0.8782\n",
      "Epoch 5/20\n",
      "26270/26270 [==============================] - 1s - loss: 0.4506 - acc: 0.8842 - val_loss: 0.4581 - val_acc: 0.8773\n",
      "Epoch 6/20\n",
      "26270/26270 [==============================] - 1s - loss: 0.3952 - acc: 0.8981 - val_loss: 0.5505 - val_acc: 0.8488\n",
      "Epoch 7/20\n",
      "26270/26270 [==============================] - 1s - loss: 0.3582 - acc: 0.9067 - val_loss: 0.3715 - val_acc: 0.9080\n",
      "Epoch 8/20\n",
      "26270/26270 [==============================] - 1s - loss: 0.3123 - acc: 0.9177 - val_loss: 0.3449 - val_acc: 0.9090\n",
      "Epoch 9/20\n",
      "26270/26270 [==============================] - 1s - loss: 0.2978 - acc: 0.9210 - val_loss: 0.4351 - val_acc: 0.8719\n",
      "Epoch 10/20\n",
      "26270/26270 [==============================] - 1s - loss: 0.2780 - acc: 0.9266 - val_loss: 0.4250 - val_acc: 0.8891\n",
      "Epoch 11/20\n",
      "26270/26270 [==============================] - 1s - loss: 0.2340 - acc: 0.9391 - val_loss: 0.2775 - val_acc: 0.9316\n",
      "Epoch 12/20\n",
      "26270/26270 [==============================] - 1s - loss: 0.2394 - acc: 0.9369 - val_loss: 0.3873 - val_acc: 0.8759\n",
      "Epoch 13/20\n",
      "26270/26270 [==============================] - 1s - loss: 0.2273 - acc: 0.9388 - val_loss: 0.3150 - val_acc: 0.9134\n",
      "Epoch 14/20\n",
      "26270/26270 [==============================] - 1s - loss: 0.2207 - acc: 0.9399 - val_loss: 0.3079 - val_acc: 0.9096\n",
      "Epoch 15/20\n",
      "26270/26270 [==============================] - 1s - loss: 0.2163 - acc: 0.9391 - val_loss: 0.2796 - val_acc: 0.9218\n",
      "Epoch 16/20\n",
      "26270/26270 [==============================] - 1s - loss: 0.1818 - acc: 0.9524 - val_loss: 0.2843 - val_acc: 0.9186\n",
      "Epoch 17/20\n",
      "26270/26270 [==============================] - 1s - loss: 0.1796 - acc: 0.9517 - val_loss: 0.2997 - val_acc: 0.9129\n",
      "Epoch 18/20\n",
      "26270/26270 [==============================] - 1s - loss: 0.1656 - acc: 0.9560 - val_loss: 0.2312 - val_acc: 0.9376\n",
      "Epoch 19/20\n",
      "26270/26270 [==============================] - 1s - loss: 0.1796 - acc: 0.9518 - val_loss: 0.2419 - val_acc: 0.9394\n",
      "Epoch 20/20\n",
      "26270/26270 [==============================] - 1s - loss: 0.1477 - acc: 0.9608 - val_loss: 0.2314 - val_acc: 0.9358\n"
     ]
    }
   ],
   "source": [
    "# TODO: Compile and train the model here.\n",
    "from keras.utils import np_utils\n",
    "\n",
    "Y_train = np_utils.to_categorical(y_train, 43)\n",
    "Y_val = np_utils.to_categorical(y_val, 43)\n",
    "\n",
    "X_train_flat = X_train.reshape(-1, 32*32*3)\n",
    "X_val_flat = X_val.reshape(-1, 32*32*3)\n",
    "\n",
    "model.summary()\n",
    "\n",
    "model.compile(loss='categorical_crossentropy',\n",
    "              optimizer='adam',\n",
    "              metrics=['accuracy'])\n",
    "history = model.fit(X_train_flat, Y_train,\n",
    "                    batch_size=128, nb_epoch=20,\n",
    "                    verbose=1, validation_data=(X_val_flat, Y_val))"
   ]
  },
  {
   "cell_type": "code",
   "execution_count": 11,
   "metadata": {
    "collapsed": true
   },
   "outputs": [],
   "source": [
    "# STOP: Do not change the tests below. Your implementation should pass these tests.\n",
    "assert(history.history['acc'][-1] > 0.92), \"The training accuracy was: %.3f\" % history.history['acc'][-1]\n",
    "assert(history.history['val_acc'][-1] > 0.9), \"The validation accuracy is: %.3f\" % history.history['val_acc'][-1]"
   ]
  },
  {
   "cell_type": "markdown",
   "metadata": {},
   "source": [
    "**Validation Accuracy**: (fill in here)"
   ]
  },
  {
   "cell_type": "markdown",
   "metadata": {},
   "source": [
    "## Congratulations\n",
    "You've built a feedforward neural network in Keras!\n",
    "\n",
    "Don't stop here! Next, you'll add a convolutional layer to drive.py."
   ]
  },
  {
   "cell_type": "markdown",
   "metadata": {},
   "source": [
    "## Convolutions\n",
    "Build a new network, similar to your existing network. Before the hidden layer, add a 3x3 [convolutional layer](https://keras.io/layers/convolutional/#convolution2d) with 32 filters and valid padding.\n",
    "\n",
    "Then compile and train the network.\n",
    "\n",
    "Hint 1: The Keras example of a [convolutional neural network](https://github.com/fchollet/keras/blob/master/examples/mnist_cnn.py) for MNIST would be a good example to review.\n",
    "\n",
    "Hint 2: Now that the first layer of the network is a convolutional layer, you no longer need to reshape the input images before passing them to the network. You might need to reload your training data to recover the original shape.\n",
    "\n",
    "Hint 3: Add a [`Flatten()` layer](https://keras.io/layers/core/#flatten) between the convolutional layer and the fully-connected hidden layer."
   ]
  },
  {
   "cell_type": "code",
   "execution_count": 13,
   "metadata": {
    "collapsed": false
   },
   "outputs": [
    {
     "name": "stdout",
     "output_type": "stream",
     "text": [
      "____________________________________________________________________________________________________\n",
      "Layer (type)                     Output Shape          Param #     Connected to                     \n",
      "====================================================================================================\n",
      "convolution2d_1 (Convolution2D)  (None, 30, 30, 32)    896         convolution2d_input_1[0][0]      \n",
      "____________________________________________________________________________________________________\n",
      "flatten_1 (Flatten)              (None, 28800)         0           convolution2d_1[0][0]            \n",
      "____________________________________________________________________________________________________\n",
      "dense_3 (Dense)                  (None, 128)           3686528     flatten_1[0][0]                  \n",
      "____________________________________________________________________________________________________\n",
      "dense_4 (Dense)                  (None, 43)            5547        dense_3[0][0]                    \n",
      "====================================================================================================\n",
      "Total params: 3692971\n",
      "____________________________________________________________________________________________________\n",
      "Train on 26270 samples, validate on 12939 samples\n",
      "Epoch 1/20\n",
      "26270/26270 [==============================] - 25s - loss: 1.2070 - acc: 0.6866 - val_loss: 0.4827 - val_acc: 0.8617\n",
      "Epoch 2/20\n",
      "26270/26270 [==============================] - 27s - loss: 0.3139 - acc: 0.9214 - val_loss: 0.2682 - val_acc: 0.9301\n",
      "Epoch 3/20\n",
      "26270/26270 [==============================] - 26s - loss: 0.1750 - acc: 0.9580 - val_loss: 0.1864 - val_acc: 0.9533\n",
      "Epoch 4/20\n",
      "26270/26270 [==============================] - 25s - loss: 0.1121 - acc: 0.9744 - val_loss: 0.1528 - val_acc: 0.9621\n",
      "Epoch 5/20\n",
      "26270/26270 [==============================] - 25s - loss: 0.0809 - acc: 0.9801 - val_loss: 0.1462 - val_acc: 0.9660\n",
      "Epoch 6/20\n",
      "26270/26270 [==============================] - 27s - loss: 0.0557 - acc: 0.9880 - val_loss: 0.1707 - val_acc: 0.9565\n",
      "Epoch 7/20\n",
      "26270/26270 [==============================] - 26s - loss: 0.0465 - acc: 0.9891 - val_loss: 0.1582 - val_acc: 0.9574\n",
      "Epoch 8/20\n",
      "26270/26270 [==============================] - 27s - loss: 0.0416 - acc: 0.9903 - val_loss: 0.1299 - val_acc: 0.9692\n",
      "Epoch 9/20\n",
      "26270/26270 [==============================] - 26s - loss: 0.0265 - acc: 0.9944 - val_loss: 0.1336 - val_acc: 0.9673\n",
      "Epoch 10/20\n",
      "26270/26270 [==============================] - 26s - loss: 0.0282 - acc: 0.9936 - val_loss: 0.1494 - val_acc: 0.9647\n",
      "Epoch 11/20\n",
      "26270/26270 [==============================] - 26s - loss: 0.0366 - acc: 0.9898 - val_loss: 0.1486 - val_acc: 0.9677\n",
      "Epoch 12/20\n",
      "26270/26270 [==============================] - 26s - loss: 0.0416 - acc: 0.9900 - val_loss: 0.1339 - val_acc: 0.9706\n",
      "Epoch 13/20\n",
      "26270/26270 [==============================] - 25s - loss: 0.0220 - acc: 0.9949 - val_loss: 0.1414 - val_acc: 0.9669\n",
      "Epoch 14/20\n",
      "26270/26270 [==============================] - 25s - loss: 0.0180 - acc: 0.9960 - val_loss: 0.1368 - val_acc: 0.9706\n",
      "Epoch 15/20\n",
      "26270/26270 [==============================] - 26s - loss: 0.0116 - acc: 0.9978 - val_loss: 0.1080 - val_acc: 0.9781\n",
      "Epoch 16/20\n",
      "26270/26270 [==============================] - 25s - loss: 0.0051 - acc: 0.9995 - val_loss: 0.1066 - val_acc: 0.9787\n",
      "Epoch 17/20\n",
      "26270/26270 [==============================] - 26s - loss: 0.0043 - acc: 0.9997 - val_loss: 0.1111 - val_acc: 0.9774\n",
      "Epoch 18/20\n",
      "26270/26270 [==============================] - 26s - loss: 0.0539 - acc: 0.9866 - val_loss: 0.2488 - val_acc: 0.9496\n",
      "Epoch 19/20\n",
      "26270/26270 [==============================] - 26s - loss: 0.0604 - acc: 0.9833 - val_loss: 0.1518 - val_acc: 0.9702\n",
      "Epoch 20/20\n",
      "26270/26270 [==============================] - 26s - loss: 0.0166 - acc: 0.9960 - val_loss: 0.1392 - val_acc: 0.9716\n"
     ]
    }
   ],
   "source": [
    "# TODO: Re-construct the network and add a convolutional layer before the first fully-connected layer.\n",
    "from keras.layers import Conv2D, Flatten\n",
    "\n",
    "Y_train = np_utils.to_categorical(y_train, 43)\n",
    "Y_val = np_utils.to_categorical(y_val, 43)\n",
    "\n",
    "model = Sequential()\n",
    "model.add(Conv2D(32, 3, 3, input_shape=(32,32,3), border_mode='valid', activation='relu'))\n",
    "model.add(Flatten())\n",
    "model.add(Dense(128, activation='relu'))\n",
    "model.add(Dense(43, activation='softmax'))\n",
    "\n",
    "model.summary()\n",
    "# TODO: Compile and train the model here.\n",
    "model.compile(loss='categorical_crossentropy',\n",
    "              optimizer='adam',\n",
    "              metrics=['accuracy'])\n",
    "history = model.fit(X_train, Y_train,\n",
    "                    batch_size=128, nb_epoch=20,\n",
    "                    verbose=1, validation_data=(X_val, Y_val))"
   ]
  },
  {
   "cell_type": "code",
   "execution_count": 14,
   "metadata": {
    "collapsed": true
   },
   "outputs": [],
   "source": [
    "# STOP: Do not change the tests below. Your implementation should pass these tests.\n",
    "assert(history.history['val_acc'][-1] > 0.95), \"The validation accuracy is: %.3f\" % history.history['val_acc'][-1]"
   ]
  },
  {
   "cell_type": "markdown",
   "metadata": {},
   "source": [
    "**Validation Accuracy**: (fill in here)"
   ]
  },
  {
   "cell_type": "markdown",
   "metadata": {},
   "source": [
    "## Pooling\n",
    "Re-construct your network and add a 2x2 [pooling layer](https://keras.io/layers/pooling/#maxpooling2d) immediately following your convolutional layer.\n",
    "\n",
    "Then compile and train the network."
   ]
  },
  {
   "cell_type": "code",
   "execution_count": 15,
   "metadata": {
    "collapsed": false
   },
   "outputs": [
    {
     "name": "stdout",
     "output_type": "stream",
     "text": [
      "____________________________________________________________________________________________________\n",
      "Layer (type)                     Output Shape          Param #     Connected to                     \n",
      "====================================================================================================\n",
      "convolution2d_2 (Convolution2D)  (None, 30, 30, 32)    896         convolution2d_input_2[0][0]      \n",
      "____________________________________________________________________________________________________\n",
      "maxpooling2d_1 (MaxPooling2D)    (None, 15, 15, 32)    0           convolution2d_2[0][0]            \n",
      "____________________________________________________________________________________________________\n",
      "activation_1 (Activation)        (None, 15, 15, 32)    0           maxpooling2d_1[0][0]             \n",
      "____________________________________________________________________________________________________\n",
      "flatten_2 (Flatten)              (None, 7200)          0           activation_1[0][0]               \n",
      "____________________________________________________________________________________________________\n",
      "dense_5 (Dense)                  (None, 128)           921728      flatten_2[0][0]                  \n",
      "____________________________________________________________________________________________________\n",
      "dense_6 (Dense)                  (None, 43)            5547        dense_5[0][0]                    \n",
      "====================================================================================================\n",
      "Total params: 928171\n",
      "____________________________________________________________________________________________________\n",
      "Train on 26270 samples, validate on 12939 samples\n",
      "Epoch 1/20\n",
      "26270/26270 [==============================] - 18s - loss: 1.6381 - acc: 0.5769 - val_loss: 0.7284 - val_acc: 0.8093\n",
      "Epoch 2/20\n",
      "26270/26270 [==============================] - 18s - loss: 0.4867 - acc: 0.8809 - val_loss: 0.3997 - val_acc: 0.8919\n",
      "Epoch 3/20\n",
      "26270/26270 [==============================] - 18s - loss: 0.2764 - acc: 0.9348 - val_loss: 0.2773 - val_acc: 0.9250\n",
      "Epoch 4/20\n",
      "26270/26270 [==============================] - 17s - loss: 0.1762 - acc: 0.9633 - val_loss: 0.2043 - val_acc: 0.9498\n",
      "Epoch 5/20\n",
      "26270/26270 [==============================] - 17s - loss: 0.1429 - acc: 0.9671 - val_loss: 0.1694 - val_acc: 0.9609\n",
      "Epoch 6/20\n",
      "26270/26270 [==============================] - 18s - loss: 0.0967 - acc: 0.9805 - val_loss: 0.1554 - val_acc: 0.9599\n",
      "Epoch 7/20\n",
      "26270/26270 [==============================] - 19s - loss: 0.0755 - acc: 0.9857 - val_loss: 0.1459 - val_acc: 0.9630\n",
      "Epoch 8/20\n",
      "26270/26270 [==============================] - 18s - loss: 0.0670 - acc: 0.9859 - val_loss: 0.1265 - val_acc: 0.9719\n",
      "Epoch 9/20\n",
      "26270/26270 [==============================] - 18s - loss: 0.0511 - acc: 0.9903 - val_loss: 0.1377 - val_acc: 0.9655\n",
      "Epoch 10/20\n",
      "26270/26270 [==============================] - 18s - loss: 0.0469 - acc: 0.9906 - val_loss: 0.1218 - val_acc: 0.9706\n",
      "Epoch 11/20\n",
      "26270/26270 [==============================] - 17s - loss: 0.0389 - acc: 0.9923 - val_loss: 0.1132 - val_acc: 0.9732\n",
      "Epoch 12/20\n",
      "26270/26270 [==============================] - 18s - loss: 0.0382 - acc: 0.9921 - val_loss: 0.1487 - val_acc: 0.9597\n",
      "Epoch 13/20\n",
      "26270/26270 [==============================] - 18s - loss: 0.0313 - acc: 0.9935 - val_loss: 0.1251 - val_acc: 0.9695\n",
      "Epoch 14/20\n",
      "26270/26270 [==============================] - 18s - loss: 0.0355 - acc: 0.9911 - val_loss: 0.1474 - val_acc: 0.9680\n",
      "Epoch 15/20\n",
      "26270/26270 [==============================] - 17s - loss: 0.0283 - acc: 0.9941 - val_loss: 0.1119 - val_acc: 0.9751\n",
      "Epoch 16/20\n",
      "26270/26270 [==============================] - 17s - loss: 0.0279 - acc: 0.9941 - val_loss: 0.1286 - val_acc: 0.9708\n",
      "Epoch 17/20\n",
      "26270/26270 [==============================] - 18s - loss: 0.0203 - acc: 0.9961 - val_loss: 0.1235 - val_acc: 0.9722\n",
      "Epoch 18/20\n",
      "26270/26270 [==============================] - 17s - loss: 0.0201 - acc: 0.9955 - val_loss: 0.1101 - val_acc: 0.9746\n",
      "Epoch 19/20\n",
      "26270/26270 [==============================] - 18s - loss: 0.0147 - acc: 0.9973 - val_loss: 0.0976 - val_acc: 0.9800\n",
      "Epoch 20/20\n",
      "26270/26270 [==============================] - 18s - loss: 0.0079 - acc: 0.9993 - val_loss: 0.0933 - val_acc: 0.9802\n"
     ]
    }
   ],
   "source": [
    "# TODO: Re-construct the network and add a pooling layer after the convolutional layer.\n",
    "from keras.layers import MaxPooling2D, Activation\n",
    "\n",
    "Y_train = np_utils.to_categorical(y_train, 43)\n",
    "Y_val = np_utils.to_categorical(y_val, 43)\n",
    "\n",
    "model = Sequential()\n",
    "model.add(Conv2D(32, 3, 3, input_shape=(32,32,3), border_mode='valid', activation='relu'))\n",
    "model.add(MaxPooling2D(pool_size=(2, 2)))\n",
    "model.add(Activation('relu'))\n",
    "model.add(Flatten())\n",
    "model.add(Dense(128, activation='relu'))\n",
    "model.add(Dense(43, activation='softmax'))\n",
    "          \n",
    "model.summary()\n",
    "# TODO: Compile and train the model here.\n",
    "model.compile(loss='categorical_crossentropy',\n",
    "              optimizer='adam',\n",
    "              metrics=['accuracy'])\n",
    "history = model.fit(X_train, Y_train,\n",
    "                    batch_size=128, nb_epoch=20,\n",
    "                    verbose=1, validation_data=(X_val, Y_val))"
   ]
  },
  {
   "cell_type": "code",
   "execution_count": 16,
   "metadata": {
    "collapsed": true
   },
   "outputs": [],
   "source": [
    "# STOP: Do not change the tests below. Your implementation should pass these tests.\n",
    "assert(history.history['val_acc'][-1] > 0.95), \"The validation accuracy is: %.3f\" % history.history['val_acc'][-1]"
   ]
  },
  {
   "cell_type": "markdown",
   "metadata": {},
   "source": [
    "**Validation Accuracy**: (fill in here)"
   ]
  },
  {
   "cell_type": "markdown",
   "metadata": {},
   "source": [
    "## Dropout\n",
    "Re-construct your network and add [dropout](https://keras.io/layers/core/#dropout) after the pooling layer. Set the dropout rate to 50%."
   ]
  },
  {
   "cell_type": "code",
   "execution_count": 17,
   "metadata": {
    "collapsed": false
   },
   "outputs": [
    {
     "name": "stdout",
     "output_type": "stream",
     "text": [
      "____________________________________________________________________________________________________\n",
      "Layer (type)                     Output Shape          Param #     Connected to                     \n",
      "====================================================================================================\n",
      "convolution2d_3 (Convolution2D)  (None, 30, 30, 32)    896         convolution2d_input_3[0][0]      \n",
      "____________________________________________________________________________________________________\n",
      "maxpooling2d_2 (MaxPooling2D)    (None, 15, 15, 32)    0           convolution2d_3[0][0]            \n",
      "____________________________________________________________________________________________________\n",
      "dropout_1 (Dropout)              (None, 15, 15, 32)    0           maxpooling2d_2[0][0]             \n",
      "____________________________________________________________________________________________________\n",
      "activation_2 (Activation)        (None, 15, 15, 32)    0           dropout_1[0][0]                  \n",
      "____________________________________________________________________________________________________\n",
      "flatten_3 (Flatten)              (None, 7200)          0           activation_2[0][0]               \n",
      "____________________________________________________________________________________________________\n",
      "dense_7 (Dense)                  (None, 128)           921728      flatten_3[0][0]                  \n",
      "____________________________________________________________________________________________________\n",
      "dense_8 (Dense)                  (None, 43)            5547        dense_7[0][0]                    \n",
      "====================================================================================================\n",
      "Total params: 928171\n",
      "____________________________________________________________________________________________________\n",
      "Train on 26270 samples, validate on 12939 samples\n",
      "Epoch 1/20\n",
      "26270/26270 [==============================] - 20s - loss: 1.7486 - acc: 0.5391 - val_loss: 0.7900 - val_acc: 0.7884\n",
      "Epoch 2/20\n",
      "26270/26270 [==============================] - 20s - loss: 0.5643 - acc: 0.8533 - val_loss: 0.4015 - val_acc: 0.8890\n",
      "Epoch 3/20\n",
      "26270/26270 [==============================] - 20s - loss: 0.3375 - acc: 0.9146 - val_loss: 0.2586 - val_acc: 0.9414\n",
      "Epoch 4/20\n",
      "26270/26270 [==============================] - 20s - loss: 0.2468 - acc: 0.9367 - val_loss: 0.2116 - val_acc: 0.9475\n",
      "Epoch 5/20\n",
      "26270/26270 [==============================] - 20s - loss: 0.1991 - acc: 0.9482 - val_loss: 0.1782 - val_acc: 0.9627\n",
      "Epoch 6/20\n",
      "26270/26270 [==============================] - 19s - loss: 0.1668 - acc: 0.9563 - val_loss: 0.1519 - val_acc: 0.9605\n",
      "Epoch 7/20\n",
      "26270/26270 [==============================] - 20s - loss: 0.1382 - acc: 0.9643 - val_loss: 0.1390 - val_acc: 0.9665\n",
      "Epoch 8/20\n",
      "26270/26270 [==============================] - 20s - loss: 0.1217 - acc: 0.9668 - val_loss: 0.1283 - val_acc: 0.9715\n",
      "Epoch 9/20\n",
      "26270/26270 [==============================] - 20s - loss: 0.1113 - acc: 0.9690 - val_loss: 0.1139 - val_acc: 0.9729\n",
      "Epoch 10/20\n",
      "26270/26270 [==============================] - 20s - loss: 0.0967 - acc: 0.9740 - val_loss: 0.1166 - val_acc: 0.9726\n",
      "Epoch 11/20\n",
      "26270/26270 [==============================] - 20s - loss: 0.0938 - acc: 0.9737 - val_loss: 0.1078 - val_acc: 0.9729\n",
      "Epoch 12/20\n",
      "26270/26270 [==============================] - 20s - loss: 0.0833 - acc: 0.9778 - val_loss: 0.1008 - val_acc: 0.9775\n",
      "Epoch 13/20\n",
      "26270/26270 [==============================] - 19s - loss: 0.0768 - acc: 0.9785 - val_loss: 0.0876 - val_acc: 0.9809\n",
      "Epoch 14/20\n",
      "26270/26270 [==============================] - 20s - loss: 0.0669 - acc: 0.9821 - val_loss: 0.0911 - val_acc: 0.9812\n",
      "Epoch 15/20\n",
      "26270/26270 [==============================] - 20s - loss: 0.0685 - acc: 0.9799 - val_loss: 0.0871 - val_acc: 0.9804\n",
      "Epoch 16/20\n",
      "26270/26270 [==============================] - 20s - loss: 0.0686 - acc: 0.9795 - val_loss: 0.0896 - val_acc: 0.9801\n",
      "Epoch 17/20\n",
      "26270/26270 [==============================] - 20s - loss: 0.0611 - acc: 0.9833 - val_loss: 0.0812 - val_acc: 0.9826\n",
      "Epoch 18/20\n",
      "26270/26270 [==============================] - 20s - loss: 0.0594 - acc: 0.9832 - val_loss: 0.0958 - val_acc: 0.9770\n",
      "Epoch 19/20\n",
      "26270/26270 [==============================] - 20s - loss: 0.0576 - acc: 0.9837 - val_loss: 0.0961 - val_acc: 0.9770\n",
      "Epoch 20/20\n",
      "26270/26270 [==============================] - 20s - loss: 0.0569 - acc: 0.9836 - val_loss: 0.0819 - val_acc: 0.9790\n"
     ]
    }
   ],
   "source": [
    "# TODO: Re-construct the network and add dropout after the pooling layer.\n",
    "from keras.layers import Dropout\n",
    "\n",
    "Y_train = np_utils.to_categorical(y_train, 43)\n",
    "Y_val = np_utils.to_categorical(y_val, 43)\n",
    "\n",
    "model = Sequential()\n",
    "model.add(Conv2D(32, 3, 3, input_shape=(32,32,3), border_mode='valid', activation='relu'))\n",
    "model.add(MaxPooling2D(pool_size=(2, 2)))\n",
    "model.add(Dropout(0.5))\n",
    "model.add(Activation('relu'))\n",
    "model.add(Flatten())\n",
    "model.add(Dense(128, activation='relu'))\n",
    "model.add(Dense(43, activation='softmax'))\n",
    "\n",
    "model.summary()\n",
    "# TODO: Compile and train the model here.\n",
    "model.compile(loss='categorical_crossentropy',\n",
    "              optimizer='adam',\n",
    "              metrics=['accuracy'])\n",
    "history = model.fit(X_train, Y_train,\n",
    "                    batch_size=128, nb_epoch=20,\n",
    "                    verbose=1, validation_data=(X_val, Y_val))"
   ]
  },
  {
   "cell_type": "code",
   "execution_count": 18,
   "metadata": {
    "collapsed": true
   },
   "outputs": [],
   "source": [
    "# STOP: Do not change the tests below. Your implementation should pass these tests.\n",
    "assert(history.history['val_acc'][-1] > 0.95), \"The validation accuracy is: %.3f\" % history.history['val_acc'][-1]"
   ]
  },
  {
   "cell_type": "markdown",
   "metadata": {
    "collapsed": true
   },
   "source": [
    "**Validation Accuracy**: (fill in here)"
   ]
  },
  {
   "cell_type": "markdown",
   "metadata": {},
   "source": [
    "## Optimization\n",
    "Congratulations! You've built a neural network with convolutions, pooling, dropout, and fully-connected layers, all in just a few lines of code.\n",
    "\n",
    "Have fun with the model and see how well you can do! Add more layers, or regularization, or different padding, or batches, or more training epochs.\n",
    "\n",
    "What is the best validation accuracy you can achieve?"
   ]
  },
  {
   "cell_type": "code",
   "execution_count": 20,
   "metadata": {
    "collapsed": false
   },
   "outputs": [
    {
     "name": "stdout",
     "output_type": "stream",
     "text": [
      "____________________________________________________________________________________________________\n",
      "Layer (type)                     Output Shape          Param #     Connected to                     \n",
      "====================================================================================================\n",
      "convolution2d_4 (Convolution2D)  (None, 28, 28, 100)   7600        convolution2d_input_4[0][0]      \n",
      "____________________________________________________________________________________________________\n",
      "maxpooling2d_3 (MaxPooling2D)    (None, 14, 14, 100)   0           convolution2d_4[0][0]            \n",
      "____________________________________________________________________________________________________\n",
      "convolution2d_5 (Convolution2D)  (None, 12, 12, 150)   135150      maxpooling2d_3[0][0]             \n",
      "____________________________________________________________________________________________________\n",
      "maxpooling2d_4 (MaxPooling2D)    (None, 6, 6, 150)     0           convolution2d_5[0][0]            \n",
      "____________________________________________________________________________________________________\n",
      "convolution2d_6 (Convolution2D)  (None, 5, 5, 250)     150250      maxpooling2d_4[0][0]             \n",
      "____________________________________________________________________________________________________\n",
      "maxpooling2d_5 (MaxPooling2D)    (None, 2, 2, 250)     0           convolution2d_6[0][0]            \n",
      "____________________________________________________________________________________________________\n",
      "flatten_4 (Flatten)              (None, 1000)          0           maxpooling2d_5[0][0]             \n",
      "____________________________________________________________________________________________________\n",
      "dense_9 (Dense)                  (None, 300)           300300      flatten_4[0][0]                  \n",
      "____________________________________________________________________________________________________\n",
      "dropout_2 (Dropout)              (None, 300)           0           dense_9[0][0]                    \n",
      "____________________________________________________________________________________________________\n",
      "dense_10 (Dense)                 (None, 43)            12943       dropout_2[0][0]                  \n",
      "====================================================================================================\n",
      "Total params: 606243\n",
      "____________________________________________________________________________________________________\n",
      "Train on 26270 samples, validate on 12939 samples\n",
      "Epoch 1/20\n",
      "26270/26270 [==============================] - 87s - loss: 2.6506 - acc: 0.2702 - val_loss: 1.3997 - val_acc: 0.5896\n",
      "Epoch 2/20\n",
      "26270/26270 [==============================] - 87s - loss: 0.9168 - acc: 0.7171 - val_loss: 0.4048 - val_acc: 0.8818\n",
      "Epoch 3/20\n",
      "26270/26270 [==============================] - 89s - loss: 0.3878 - acc: 0.8800 - val_loss: 0.1678 - val_acc: 0.9543\n",
      "Epoch 4/20\n",
      "26270/26270 [==============================] - 90s - loss: 0.2276 - acc: 0.9284 - val_loss: 0.1183 - val_acc: 0.9657\n",
      "Epoch 5/20\n",
      "26270/26270 [==============================] - 90s - loss: 0.1484 - acc: 0.9559 - val_loss: 0.0795 - val_acc: 0.9787\n",
      "Epoch 6/20\n",
      "26270/26270 [==============================] - 88s - loss: 0.1112 - acc: 0.9671 - val_loss: 0.0798 - val_acc: 0.9765\n",
      "Epoch 7/20\n",
      "26270/26270 [==============================] - 86s - loss: 0.0874 - acc: 0.9735 - val_loss: 0.0565 - val_acc: 0.9819\n",
      "Epoch 8/20\n",
      "26270/26270 [==============================] - 88s - loss: 0.0727 - acc: 0.9783 - val_loss: 0.0470 - val_acc: 0.9872\n",
      "Epoch 9/20\n",
      "26270/26270 [==============================] - 88s - loss: 0.0566 - acc: 0.9830 - val_loss: 0.0391 - val_acc: 0.9890\n",
      "Epoch 10/20\n",
      "26270/26270 [==============================] - 88s - loss: 0.0495 - acc: 0.9844 - val_loss: 0.0377 - val_acc: 0.9901\n",
      "Epoch 11/20\n",
      "26270/26270 [==============================] - 88s - loss: 0.0499 - acc: 0.9857 - val_loss: 0.0348 - val_acc: 0.9892\n",
      "Epoch 12/20\n",
      "26270/26270 [==============================] - 90s - loss: 0.0412 - acc: 0.9873 - val_loss: 0.0418 - val_acc: 0.9891\n",
      "Epoch 13/20\n",
      "26270/26270 [==============================] - 87s - loss: 0.0354 - acc: 0.9889 - val_loss: 0.0304 - val_acc: 0.9916\n",
      "Epoch 14/20\n",
      "26270/26270 [==============================] - 87s - loss: 0.0316 - acc: 0.9900 - val_loss: 0.0303 - val_acc: 0.9920\n",
      "Epoch 15/20\n",
      "26270/26270 [==============================] - 88s - loss: 0.0341 - acc: 0.9893 - val_loss: 0.0300 - val_acc: 0.9913\n",
      "Epoch 16/20\n",
      "26270/26270 [==============================] - 86s - loss: 0.0301 - acc: 0.9908 - val_loss: 0.0270 - val_acc: 0.9931\n",
      "Epoch 17/20\n",
      "26270/26270 [==============================] - 87s - loss: 0.0241 - acc: 0.9927 - val_loss: 0.0284 - val_acc: 0.9920\n",
      "Epoch 18/20\n",
      "26270/26270 [==============================] - 88s - loss: 0.0272 - acc: 0.9911 - val_loss: 0.0318 - val_acc: 0.9909\n",
      "Epoch 19/20\n",
      "26270/26270 [==============================] - 88s - loss: 0.0256 - acc: 0.9915 - val_loss: 0.0243 - val_acc: 0.9930\n",
      "Epoch 20/20\n",
      "26270/26270 [==============================] - 88s - loss: 0.0228 - acc: 0.9928 - val_loss: 0.0256 - val_acc: 0.9931\n"
     ]
    }
   ],
   "source": [
    "from keras.layers import Conv2D, Flatten, MaxPooling2D, Activation, Dropout\n",
    "\n",
    "Y_train = np_utils.to_categorical(y_train, 43)\n",
    "Y_val = np_utils.to_categorical(y_val, 43)\n",
    "\n",
    "model = Sequential()\n",
    "model.add(Conv2D(100, 5, 5, input_shape=(32,32,3), border_mode='valid', activation='relu'))\n",
    "model.add(MaxPooling2D(pool_size=(2,2)))\n",
    "model.add(Conv2D(150, 3, 3, border_mode='valid', activation='relu'))\n",
    "model.add(MaxPooling2D(pool_size=(2,2)))\n",
    "model.add(Conv2D(250, 2, 2, border_mode='valid', activation='relu'))\n",
    "model.add(MaxPooling2D(pool_size=(2,2)))\n",
    "model.add(Flatten())\n",
    "model.add(Dense(300, activation='relu'))\n",
    "model.add(Dropout(0.5))\n",
    "model.add(Dense(43, activation='softmax'))\n",
    "\n",
    "model.summary()\n",
    "\n",
    "model.compile(loss='categorical_crossentropy',\n",
    "              optimizer='adam',\n",
    "              metrics=['accuracy'])\n",
    "history = model.fit(X_train, Y_train,\n",
    "                    batch_size=128, nb_epoch=20,\n",
    "                    verbose=1, validation_data=(X_val, Y_val))"
   ]
  },
  {
   "cell_type": "markdown",
   "metadata": {},
   "source": [
    "**Best Validation Accuracy:** (fill in here)"
   ]
  },
  {
   "cell_type": "markdown",
   "metadata": {},
   "source": [
    "## Testing\n",
    "Once you've picked out your best model, it's time to test it.\n",
    "\n",
    "Load up the test data and use the [`evaluate()` method](https://keras.io/models/model/#evaluate) to see how well it does.\n",
    "\n",
    "Hint 1: The `evaluate()` method should return an array of numbers. Use the `metrics_names()` method to get the labels."
   ]
  },
  {
   "cell_type": "code",
   "execution_count": 21,
   "metadata": {
    "collapsed": false
   },
   "outputs": [
    {
     "name": "stdout",
     "output_type": "stream",
     "text": [
      "12630/12630 [==============================] - 14s    \n"
     ]
    },
    {
     "data": {
      "text/plain": [
       "[0.20957386737530301, 0.96239113219654571]"
      ]
     },
     "execution_count": 21,
     "metadata": {},
     "output_type": "execute_result"
    }
   ],
   "source": [
    "# TODO: Load test data\n",
    "with open('test.p', 'rb') as f:\n",
    "    test_data = pickle.load(f)\n",
    "# TODO: Preprocess data & one-hot encode the labels\n",
    "X_test = test_data['features']\n",
    "y_test = test_data['labels']\n",
    "X_test = X_test.astype('float32')\n",
    "X_test = X_test / 255 - 0.5\n",
    "Y_test = np_utils.to_categorical(y_test, 43)\n",
    "# TODO: Evaluate model on test data\n",
    "model.evaluate(X_test, Y_test)"
   ]
  },
  {
   "cell_type": "markdown",
   "metadata": {},
   "source": [
    "**Test Accuracy:** (fill in here)"
   ]
  },
  {
   "cell_type": "markdown",
   "metadata": {},
   "source": [
    "## Summary\n",
    "Keras is a great tool to use if you want to quickly build a neural network and evaluate performance."
   ]
  }
 ],
 "metadata": {
  "anaconda-cloud": {},
  "kernelspec": {
   "display_name": "Python [default]",
   "language": "python",
   "name": "python3"
  },
  "language_info": {
   "codemirror_mode": {
    "name": "ipython",
    "version": 3
   },
   "file_extension": ".py",
   "mimetype": "text/x-python",
   "name": "python",
   "nbconvert_exporter": "python",
   "pygments_lexer": "ipython3",
   "version": "3.5.2"
  }
 },
 "nbformat": 4,
 "nbformat_minor": 0
}
